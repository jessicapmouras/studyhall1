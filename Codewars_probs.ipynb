{
 "cells": [
  {
   "cell_type": "code",
   "execution_count": 7,
   "metadata": {},
   "outputs": [],
   "source": [
    "import numpy as np"
   ]
  },
  {
   "cell_type": "code",
   "execution_count": null,
   "metadata": {},
   "outputs": [],
   "source": []
  },
  {
   "cell_type": "markdown",
   "metadata": {},
   "source": [
    "## Expanded Digits"
   ]
  },
  {
   "cell_type": "code",
   "execution_count": 16,
   "metadata": {},
   "outputs": [
    {
     "name": "stdout",
     "output_type": "stream",
     "text": [
      "['2', '']\n",
      "['500', '10', '2']\n",
      "['500', '10', '2']\n"
     ]
    }
   ],
   "source": [
    "num = 512\n",
    "# def expanded_form(num):\n",
    "strnum = str(num)\n",
    "first = []\n",
    "length = len(strnum)\n",
    "counter = length - 1\n",
    "    \n",
    "for digit in strnum:\n",
    "    second = []\n",
    "    second.append(digit)\n",
    "        \n",
    "    zeroes = '0' * counter\n",
    "    second.append(zeroes)\n",
    "        \n",
    "    counter -= 1\n",
    "        \n",
    "    first.append(\"\".join(second))\n",
    "print(second)\n",
    "print(first)\n",
    "last = [piece for piece in first if piece[0] != '0']\n",
    "print(last)\n",
    "    \n",
    "#     return ' + '.join(last)"
   ]
  },
  {
   "cell_type": "code",
   "execution_count": 17,
   "metadata": {},
   "outputs": [
    {
     "name": "stdout",
     "output_type": "stream",
     "text": [
      "['4', '']\n",
      "['700000', '00000', '0000', '500', '60', '4']\n",
      "['700000', '500', '60', '4']\n"
     ]
    }
   ],
   "source": [
    "num = 700564\n",
    "# def expanded_form(num):\n",
    "strnum = str(num)\n",
    "first = []\n",
    "length = len(strnum)\n",
    "counter = length - 1\n",
    "    \n",
    "for digit in strnum:\n",
    "    second = []\n",
    "    second.append(digit)\n",
    "        \n",
    "    zeroes = '0' * counter\n",
    "    second.append(zeroes)\n",
    "        \n",
    "    counter -= 1\n",
    "        \n",
    "    first.append(\"\".join(second))\n",
    "print(second)\n",
    "print(first)\n",
    "last = [piece for piece in first if piece[0] != '0']\n",
    "print(last)\n",
    "    \n",
    "#     return ' + '.join(last)"
   ]
  },
  {
   "cell_type": "code",
   "execution_count": 8,
   "metadata": {},
   "outputs": [
    {
     "data": {
      "text/plain": [
       "'500 + 10 + 2'"
      ]
     },
     "execution_count": 8,
     "metadata": {},
     "output_type": "execute_result"
    }
   ],
   "source": [
    "expanded_form(512)"
   ]
  },
  {
   "cell_type": "markdown",
   "metadata": {},
   "source": [
    "## string markdown"
   ]
  },
  {
   "cell_type": "code",
   "execution_count": null,
   "metadata": {},
   "outputs": [],
   "source": [
    "string = 'abca'"
   ]
  },
  {
   "cell_type": "code",
   "execution_count": null,
   "metadata": {},
   "outputs": [],
   "source": [
    "def count(string):\n",
    "    d = {}\n",
    "    if len(string) == 0:\n",
    "        return d\n",
    "    else:\n",
    "        for char in string:\n",
    "            if char in d:\n",
    "                d[char] += 1\n",
    "            else:\n",
    "                d[char] = 1      \n",
    "    return d"
   ]
  },
  {
   "cell_type": "code",
   "execution_count": null,
   "metadata": {},
   "outputs": [],
   "source": [
    "count(string)"
   ]
  },
  {
   "cell_type": "markdown",
   "metadata": {},
   "source": [
    "## Sort the odd"
   ]
  },
  {
   "cell_type": "code",
   "execution_count": 3,
   "metadata": {},
   "outputs": [],
   "source": [
    "arr = [5, 3, 2, 8, 1, 4]"
   ]
  },
  {
   "cell_type": "code",
   "execution_count": 4,
   "metadata": {},
   "outputs": [
    {
     "name": "stdout",
     "output_type": "stream",
     "text": [
      "[5, 3, 1]\n",
      "[1, 3, 2, 8, 5, 4]\n"
     ]
    }
   ],
   "source": [
    "#def sort_array(arr):\n",
    "odds = sorted((x for x in arr if x%2 != 0), reverse=True)\n",
    "print(odds)\n",
    "print([x if x%2==0 else odds.pop() for x in arr])"
   ]
  },
  {
   "cell_type": "code",
   "execution_count": 7,
   "metadata": {},
   "outputs": [],
   "source": [
    "def sort_array(arr):\n",
    "# generate array of odd values sorted in place, descending\n",
    "    odds = sorted((x for x in arr if x%2 != 0), reverse=True)\n",
    "# return even nums normally, for offs take the smallest first using pop()\n",
    "# which takes the ending last value and adds it into array\n",
    "    return [x if x%2==0 else odds.pop() for x in arr]"
   ]
  },
  {
   "cell_type": "code",
   "execution_count": 9,
   "metadata": {},
   "outputs": [
    {
     "data": {
      "text/plain": [
       "[1, 3, 2, 8, 5, 4]"
      ]
     },
     "execution_count": 9,
     "metadata": {},
     "output_type": "execute_result"
    }
   ],
   "source": [
    "sort_array([5, 3, 2, 8, 1, 4])"
   ]
  },
  {
   "cell_type": "code",
   "execution_count": 10,
   "metadata": {},
   "outputs": [],
   "source": [
    "def sort_array(arr):\n",
    "    odds = sorted((x for x in arr if x % 2 == 1), reverse=True)\n",
    "    return [x if x % 2 == 0 else odds.pop() for x in arr]"
   ]
  },
  {
   "cell_type": "code",
   "execution_count": 11,
   "metadata": {},
   "outputs": [
    {
     "data": {
      "text/plain": [
       "[1, 3, 2, 8, 5, 4]"
      ]
     },
     "execution_count": 11,
     "metadata": {},
     "output_type": "execute_result"
    }
   ],
   "source": [
    "sort_array([5, 3, 2, 8, 1, 4])"
   ]
  },
  {
   "cell_type": "markdown",
   "metadata": {},
   "source": [
    "## Diagonal Arrays"
   ]
  },
  {
   "cell_type": "code",
   "execution_count": 42,
   "metadata": {},
   "outputs": [
    {
     "name": "stdout",
     "output_type": "stream",
     "text": [
      "<class 'numpy.ndarray'>\n"
     ]
    }
   ],
   "source": [
    "arr = np.array(\n",
    "[[11, 2, 4],\n",
    "[4, 5, 6],\n",
    "[10, 8, -12]]);\n",
    "print(type(arr))"
   ]
  },
  {
   "cell_type": "code",
   "execution_count": 43,
   "metadata": {},
   "outputs": [],
   "source": [
    "def diagonalDifference(arr, n):\n",
    "    princip = 0\n",
    "    second = 0\n",
    "\n",
    "    for i in range(n):\n",
    "        princip += int(arr[i][i])\n",
    "        second += int(arr[i][n-i-1])\n",
    "    return abs(princip - second)\n"
   ]
  },
  {
   "cell_type": "code",
   "execution_count": null,
   "metadata": {},
   "outputs": [],
   "source": [
    "diagonalDifference(arr,3)"
   ]
  },
  {
   "cell_type": "code",
   "execution_count": 45,
   "metadata": {},
   "outputs": [],
   "source": [
    "def diagonalDifference(arr, n):\n",
    "    one = 0\n",
    "    two = 0\n",
    "    \n",
    "    for i in range(0, n):\n",
    "        for j in range(0, n):\n",
    "            if i == j:\n",
    "                one += arr[i][j]\n",
    "            if (i + j) == (n - 1):\n",
    "                two += arr[i][j]\n",
    "    return abs(one - two)"
   ]
  },
  {
   "cell_type": "code",
   "execution_count": 46,
   "metadata": {},
   "outputs": [
    {
     "data": {
      "text/plain": [
       "15"
      ]
     },
     "execution_count": 46,
     "metadata": {},
     "output_type": "execute_result"
    }
   ],
   "source": [
    "diagonalDifference(arr,3)"
   ]
  }
 ],
 "metadata": {
  "kernelspec": {
   "display_name": "Python 3",
   "language": "python",
   "name": "python3"
  },
  "language_info": {
   "codemirror_mode": {
    "name": "ipython",
    "version": 3
   },
   "file_extension": ".py",
   "mimetype": "text/x-python",
   "name": "python",
   "nbconvert_exporter": "python",
   "pygments_lexer": "ipython3",
   "version": "3.7.7"
  }
 },
 "nbformat": 4,
 "nbformat_minor": 4
}
